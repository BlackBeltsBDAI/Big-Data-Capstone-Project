{
 "cells": [
  {
   "cell_type": "markdown",
   "id": "20e487c6",
   "metadata": {
    "id": "20e487c6"
   },
   "source": [
    "# <font color=3C5055><center><br>Capstone Project<center><br><font color=3C5055>Spark Arrest Classification</font><br><br> Black Belts"
   ]
  },
  {
   "cell_type": "code",
   "execution_count": 1,
   "id": "064ce1b9",
   "metadata": {
    "executionInfo": {
     "elapsed": 1471,
     "status": "ok",
     "timestamp": 1671960189838,
     "user": {
      "displayName": "Elham saeed",
      "userId": "06076261585718400474"
     },
     "user_tz": -180
    },
    "id": "064ce1b9"
   },
   "outputs": [],
   "source": [
    "import matplotlib.pyplot as plt\n",
    "import seaborn as sns\n",
    "import pandas as pd\n",
    "\n",
    "import pyspark\n",
    "from pyspark.sql.functions import col, isnan, when, count, explode, array, lit\n",
    "from pyspark.ml.feature import VectorAssembler, StringIndexer\n",
    "\n",
    "from pyspark.sql.functions import *\n",
    "from pyspark.sql import functions as F\n",
    "\n",
    "from pyspark.ml.classification import DecisionTreeClassifier, RandomForestClassifier, LogisticRegression, GBTClassifier\n",
    "from pyspark.ml.evaluation import MulticlassClassificationEvaluator\n",
    "\n",
    "from pyspark.ml.tuning import CrossValidator, ParamGridBuilder, CrossValidatorModel"
   ]
  },
  {
   "cell_type": "markdown",
   "id": "a98c10f1",
   "metadata": {
    "id": "a98c10f1"
   },
   "source": [
    "## Connect to the Spark server"
   ]
  },
  {
   "cell_type": "code",
   "execution_count": 2,
   "id": "463101a9",
   "metadata": {
    "executionInfo": {
     "elapsed": 9330,
     "status": "ok",
     "timestamp": 1671960199163,
     "user": {
      "displayName": "Elham saeed",
      "userId": "06076261585718400474"
     },
     "user_tz": -180
    },
    "id": "463101a9"
   },
   "outputs": [],
   "source": [
    "spark = pyspark.sql.SparkSession.builder.config(\"spark.executor.memory\", \"16g\").config(\"spark.driver.memory\", \"16g\").getOrCreate()"
   ]
  },
  {
   "cell_type": "markdown",
   "id": "1c79a595",
   "metadata": {
    "id": "1c79a595"
   },
   "source": [
    "## Obtain the Data using Spark\n",
    "\n",
    "Link to Dataset: https://www.kaggle.com/datasets/salikhussaini49/chicago-crimes"
   ]
  },
  {
   "cell_type": "code",
   "execution_count": 3,
   "id": "b9f480fb",
   "metadata": {
    "colab": {
     "base_uri": "https://localhost:8080/"
    },
    "executionInfo": {
     "elapsed": 18524,
     "status": "ok",
     "timestamp": 1671960219631,
     "user": {
      "displayName": "Elham saeed",
      "userId": "06076261585718400474"
     },
     "user_tz": -180
    },
    "id": "b9f480fb",
    "outputId": "48a531c3-eaa3-419a-f80c-0e3183abf085"
   },
   "outputs": [
    {
     "name": "stdout",
     "output_type": "stream",
     "text": [
      "root\n",
      " |-- _c0: integer (nullable = true)\n",
      " |-- ID: integer (nullable = true)\n",
      " |-- Case Number: string (nullable = true)\n",
      " |-- Date: string (nullable = true)\n",
      " |-- Block: string (nullable = true)\n",
      " |-- IUCR: string (nullable = true)\n",
      " |-- Primary Type: string (nullable = true)\n",
      " |-- Description: string (nullable = true)\n",
      " |-- Location Description: string (nullable = true)\n",
      " |-- Arrest: integer (nullable = true)\n",
      " |-- Domestic: integer (nullable = true)\n",
      " |-- Beat: integer (nullable = true)\n",
      " |-- District: double (nullable = true)\n",
      " |-- Ward: double (nullable = true)\n",
      " |-- Community Area: double (nullable = true)\n",
      " |-- FBI Code: string (nullable = true)\n",
      " |-- X Coordinate: double (nullable = true)\n",
      " |-- Y Coordinate: double (nullable = true)\n",
      " |-- Year: integer (nullable = true)\n",
      " |-- Updated On: string (nullable = true)\n",
      " |-- Latitude: double (nullable = true)\n",
      " |-- Longitude: double (nullable = true)\n",
      " |-- Location: string (nullable = true)\n",
      "\n"
     ]
    }
   ],
   "source": [
    "data = spark.read.csv('Chicaco_Crimes.csv',\n",
    "                     sep=',',\n",
    "                     inferSchema=True,\n",
    "                     header=True,\n",
    "                     multiLine=True)\n",
    "data.printSchema()"
   ]
  },
  {
   "cell_type": "markdown",
   "id": "3f5662a3",
   "metadata": {},
   "source": [
    "### Showing the dataset"
   ]
  },
  {
   "cell_type": "code",
   "execution_count": 4,
   "id": "11762e69",
   "metadata": {
    "colab": {
     "base_uri": "https://localhost:8080/"
    },
    "executionInfo": {
     "elapsed": 2511,
     "status": "ok",
     "timestamp": 1671960222137,
     "user": {
      "displayName": "Elham saeed",
      "userId": "06076261585718400474"
     },
     "user_tz": -180
    },
    "id": "11762e69",
    "outputId": "6f7529de-c395-48d4-f918-6fd0c012f0f6",
    "scrolled": false
   },
   "outputs": [
    {
     "name": "stdout",
     "output_type": "stream",
     "text": [
      "+---+--------+-----------+--------------------+--------------------+----+--------------------+--------------------+--------------------+------+--------+----+--------+----+--------------+--------+------------+------------+----+--------------------+------------+------------------+--------------------+\n",
      "|_c0|      ID|Case Number|                Date|               Block|IUCR|        Primary Type|         Description|Location Description|Arrest|Domestic|Beat|District|Ward|Community Area|FBI Code|X Coordinate|Y Coordinate|Year|          Updated On|    Latitude|         Longitude|            Location|\n",
      "+---+--------+-----------+--------------------+--------------------+----+--------------------+--------------------+--------------------+------+--------+----+--------+----+--------------+--------+------------+------------+----+--------------------+------------+------------------+--------------------+\n",
      "|  0|10568519|   HZ316563|06/20/2016 11:30:...| 042XX W DIVISION ST|0486|             BATTERY|DOMESTIC BATTERY ...|           APARTMENT|     0|       1|1111|    11.0|37.0|          23.0|     08B|   1147898.0|   1907662.0|2016|02/10/2018 03:50:...| 41.90257608|     -87.732189083|(41.90257608, -87...|\n",
      "|  1|10568559|   HZ316657|06/21/2016 03:58:...| 063XX S STEWART AVE|502P|       OTHER OFFENSE|FALSE/STOLEN/ALTE...|              STREET|     0|       0| 722|     7.0|20.0|          68.0|      26|   1174711.0|   1862976.0|2016|02/10/2018 03:50:...|41.779396292|     -87.635035324|(41.779396292, -8...|\n",
      "|  2|10821404|   JA121988|06/01/2016 09:00:...|058XX S CARPENTER ST|1753|OFFENSE INVOLVING...|SEX ASSLT OF CHIL...|           RESIDENCE|     0|       1| 712|     7.0|16.0|          68.0|      02|   1170316.0|   1865952.0|2016|02/10/2018 03:50:...|41.787659592|-87.65106127700001|(41.787659592, -8...|\n",
      "|  3|10568511|   HZ316500|06/20/2016 08:30:...|     025XX S TROY ST|0460|             BATTERY|              SIMPLE|              STREET|     0|       0|1033|    10.0|12.0|          30.0|     08B|   1155765.0|   1887063.0|2016|02/10/2018 03:50:...|41.845895399|-87.70384701299999|(41.845895399, -8...|\n",
      "|  4|10568533|   HZ316613|06/21/2016 01:10:...| 027XX S KEDVALE AVE|051A|             ASSAULT| AGGRAVATED: HANDGUN|            SIDEWALK|     1|       0|1031|    10.0|22.0|          30.0|     04A|   1149163.0|   1885362.0|2016|02/10/2018 03:50:...| 41.84135787|-87.72812002399998|(41.84135787, -87...|\n",
      "|  5|10568518|   HZ316593|06/21/2016 01:05:...|  046XX W MADISON ST|0320|             ROBBERY|STRONGARM - NO WE...|            SIDEWALK|     1|       0|1113|    11.0|28.0|          25.0|      03|   1145361.0|   1899614.0|2016|02/10/2018 03:50:...|41.880539859|      -87.74171184|(41.880539859, -8...|\n",
      "|  6|10821576|   JA122364|12/01/2016 12:00:...|    014XX W 113TH PL|1753|OFFENSE INVOLVING...|SEX ASSLT OF CHIL...|           RESIDENCE|     0|       1|2234|    22.0|34.0|          75.0|      02|   1168385.0|   1829437.0|2016|02/10/2018 03:50:...|41.687499023|     -87.659190202|(41.687499023, -8...|\n",
      "|  7|10568504|   HZ316594|06/21/2016 12:35:...|  053XX S PULASKI RD|031A|             ROBBERY|      ARMED: HANDGUN|PARKING LOT/GARAG...|     0|       0| 815|     8.0|23.0|          62.0|      03|   1150615.0|   1868661.0|2016|02/10/2018 03:50:...|41.795499798|-87.72322678799999|(41.795499798, -8...|\n",
      "|  8|10568552|   HZ316596|06/21/2016 01:15:...|    055XX S WELLS ST|1310|     CRIMINAL DAMAGE|         TO PROPERTY|         GAS STATION|     0|       0| 711|     7.0| 3.0|          68.0|      14|   1175550.0|   1868337.0|2016|02/10/2018 03:50:...|41.794088699|     -87.631799109|(41.794088699, -8...|\n",
      "|  9|10568521|   HZ315037|06/20/2016 12:00:...|038XX W DIVERSEY AVE|0810|               THEFT|           OVER $500|           RESIDENCE|     0|       1|2523|    25.0|30.0|          21.0|      06|   1150139.0|   1918339.0|2016|02/10/2018 03:50:...|41.931831367|      -87.72367865|(41.931831367, -8...|\n",
      "| 10|10568555|   HZ316103|06/20/2016 04:40:...|     015XX E 67TH ST|0860|               THEFT|        RETAIL THEFT|   CONVENIENCE STORE|     1|       0| 332|     3.0| 5.0|          43.0|      06|   1187705.0|   1860871.0|2016|02/10/2018 03:50:...|41.773320568|     -87.587465382|(41.773320568, -8...|\n",
      "| 11|10568510|   HZ316638|06/21/2016 12:48:...|   105XX S YATES AVE|5111|       OTHER OFFENSE|GUN OFFENDER: ANN...|              STREET|     1|       0| 434|     4.0|10.0|          51.0|      26|   1194207.0|   1835658.0|2016|02/10/2018 03:50:...| 41.70397672|     -87.564456762|(41.70397672, -87...|\n",
      "| 12|10568556|   HZ316662|06/21/2016 04:00:...|  087XX S BURLEY AVE|051A|             ASSAULT| AGGRAVATED: HANDGUN|           APARTMENT|     0|       1| 424|     4.0| 7.0|          46.0|     04A|   1199184.0|   1847715.0|2016|02/10/2018 03:50:...|41.736938745|     -87.545828434|(41.736938745, -8...|\n",
      "| 13|10568547|   HZ316616|06/21/2016 02:00:...| 074XX S EMERALD AVE|1310|     CRIMINAL DAMAGE|         TO PROPERTY|           RESIDENCE|     0|       0| 732|     7.0|17.0|          68.0|      14|   1172587.0|   1855607.0|2016|02/10/2018 03:50:...|41.759221943|     -87.643038942|(41.759221943, -8...|\n",
      "| 14|10568544|   HZ316653|06/21/2016 03:50:...|     016XX E 50TH PL|031A|             ROBBERY|      ARMED: HANDGUN|              STREET|     0|       0| 222|     2.0| 4.0|          39.0|      03|   1187995.0|   1871840.0|2016|02/10/2018 03:50:...|41.803413431|-87.58605283700001|(41.803413431, -8...|\n",
      "| 15|10568520|   HZ315129|06/20/2016 03:51:...|   002XX N MASON AVE|0486|             BATTERY|DOMESTIC BATTERY ...|              STREET|     0|       1|1512|    15.0|29.0|          25.0|     08B|   1136727.0|   1901134.0|2016|02/10/2018 03:50:...|41.884869892|-87.77337914200001|(41.884869892, -8...|\n",
      "| 16|10568514|   HZ316465|06/20/2016 09:30:...|112XX S EGGLESTON...|051A|             ASSAULT| AGGRAVATED: HANDGUN|               ALLEY|     1|       0|2233|    22.0|34.0|          49.0|     04A|   1175295.0|   1830464.0|2016|02/10/2018 03:50:...|41.690166094|     -87.633863012|(41.690166094, -8...|\n",
      "| 17|10568558|   HZ315559|06/20/2016 11:43:...|     008XX E 55TH ST|0486|             BATTERY|DOMESTIC BATTERY ...|PARKING LOT/GARAG...|     0|       1| 233|     2.0| 5.0|          41.0|     08B|   1182686.0|   1868716.0|2016|02/10/2018 03:50:...|41.794965928|     -87.605620246|(41.794965928, -8...|\n",
      "| 18|10568554|   HZ316664|06/21/2016 04:35:...|063XX S DR MARTIN...|031A|             ROBBERY|      ARMED: HANDGUN|            SIDEWALK|     0|       0| 312|     3.0|20.0|          69.0|      03|   1180012.0|   1862953.0|2016|02/10/2018 03:50:...|41.779213408|      -87.61560212|(41.779213408, -8...|\n",
      "| 19|10568503|   HZ316618|06/21/2016 01:39:...|     027XX W 59TH ST|0610|            BURGLARY|      FORCIBLE ENTRY|  SMALL RETAIL STORE|     0|       0| 824|     8.0|16.0|          63.0|      05|   1158955.0|   1865413.0|2016|02/10/2018 03:50:...|41.786420345|     -87.692732245|(41.786420345, -8...|\n",
      "+---+--------+-----------+--------------------+--------------------+----+--------------------+--------------------+--------------------+------+--------+----+--------+----+--------------+--------+------------+------------+----+--------------------+------------+------------------+--------------------+\n",
      "only showing top 20 rows\n",
      "\n"
     ]
    }
   ],
   "source": [
    "data.show()"
   ]
  },
  {
   "cell_type": "markdown",
   "id": "205b2a38",
   "metadata": {},
   "source": [
    "### Find the Shape of the dataset"
   ]
  },
  {
   "cell_type": "code",
   "execution_count": 5,
   "id": "f0572b68",
   "metadata": {
    "colab": {
     "base_uri": "https://localhost:8080/"
    },
    "executionInfo": {
     "elapsed": 5242,
     "status": "ok",
     "timestamp": 1671960227364,
     "user": {
      "displayName": "Elham saeed",
      "userId": "06076261585718400474"
     },
     "user_tz": -180
    },
    "id": "f0572b68",
    "outputId": "000d47f6-e33c-4d25-9219-0e746504c687"
   },
   "outputs": [
    {
     "name": "stdout",
     "output_type": "stream",
     "text": [
      "(1671727, 23)\n"
     ]
    }
   ],
   "source": [
    "print((data.count(), len(data.columns)))"
   ]
  },
  {
   "cell_type": "markdown",
   "id": "5071df4c",
   "metadata": {
    "id": "5071df4c",
    "papermill": {
     "duration": 0.01934,
     "end_time": "2022-08-12T11:27:38.341867",
     "exception": false,
     "start_time": "2022-08-12T11:27:38.322527",
     "status": "completed"
    },
    "tags": []
   },
   "source": [
    "## Data Preprocessing \n",
    "\n"
   ]
  },
  {
   "cell_type": "markdown",
   "id": "54be4c4a",
   "metadata": {},
   "source": [
    "### Removing unnecessary columns "
   ]
  },
  {
   "cell_type": "code",
   "execution_count": 6,
   "id": "22cb69d7",
   "metadata": {
    "executionInfo": {
     "elapsed": 17,
     "status": "ok",
     "timestamp": 1671960227365,
     "user": {
      "displayName": "Elham saeed",
      "userId": "06076261585718400474"
     },
     "user_tz": -180
    },
    "id": "22cb69d7"
   },
   "outputs": [],
   "source": [
    "drop_cols = ['_c0','ID', 'Case Number', 'Location','Description','Latitude','Longitude','X Coordinate','Y Coordinate']\n",
    "\n",
    "data = data.drop(*drop_cols)"
   ]
  },
  {
   "cell_type": "markdown",
   "id": "aa71c9de",
   "metadata": {
    "id": "aa71c9de"
   },
   "source": [
    "## Data Cleaning"
   ]
  },
  {
   "cell_type": "markdown",
   "id": "95f20515",
   "metadata": {},
   "source": [
    "### Finding null values"
   ]
  },
  {
   "cell_type": "code",
   "execution_count": 7,
   "id": "77fe6bc8",
   "metadata": {
    "colab": {
     "base_uri": "https://localhost:8080/"
    },
    "executionInfo": {
     "elapsed": 35646,
     "status": "ok",
     "timestamp": 1671960262997,
     "user": {
      "displayName": "Elham saeed",
      "userId": "06076261585718400474"
     },
     "user_tz": -180
    },
    "id": "77fe6bc8",
    "outputId": "dca86a50-1112-4e34-b7c5-0f73c015b838",
    "scrolled": true
   },
   "outputs": [
    {
     "name": "stdout",
     "output_type": "stream",
     "text": [
      "+----+-----+----+------------+--------------------+------+--------+----+--------+----+--------------+--------+----+----------+\n",
      "|Date|Block|IUCR|Primary Type|Location Description|Arrest|Domestic|Beat|District|Ward|Community Area|FBI Code|Year|Updated On|\n",
      "+----+-----+----+------------+--------------------+------+--------+----+--------+----+--------------+--------+----+----------+\n",
      "|   0|    0|   0|           0|                7490|     0|       0|   0|       1|  50|             1|       0|   0|         0|\n",
      "+----+-----+----+------------+--------------------+------+--------+----+--------+----+--------------+--------+----+----------+\n",
      "\n"
     ]
    }
   ],
   "source": [
    "data.select([count(when(isnan(c) | col(c).isNull(), c)).alias(c) for c in data.columns]).show() "
   ]
  },
  {
   "cell_type": "markdown",
   "id": "f5ee5388",
   "metadata": {},
   "source": [
    "### Drop null values\n",
    "Because they are lower than 20% of the total dataset, it is better to drop them."
   ]
  },
  {
   "cell_type": "code",
   "execution_count": 8,
   "id": "9ffe3d53",
   "metadata": {
    "executionInfo": {
     "elapsed": 24,
     "status": "ok",
     "timestamp": 1671960262998,
     "user": {
      "displayName": "Elham saeed",
      "userId": "06076261585718400474"
     },
     "user_tz": -180
    },
    "id": "9ffe3d53"
   },
   "outputs": [],
   "source": [
    "data = data.na.drop()"
   ]
  },
  {
   "cell_type": "markdown",
   "id": "f271df4a",
   "metadata": {},
   "source": [
    "### Confirm the null values are droped"
   ]
  },
  {
   "cell_type": "code",
   "execution_count": 9,
   "id": "bb82e096",
   "metadata": {
    "colab": {
     "base_uri": "https://localhost:8080/"
    },
    "executionInfo": {
     "elapsed": 37701,
     "status": "ok",
     "timestamp": 1671960300676,
     "user": {
      "displayName": "Elham saeed",
      "userId": "06076261585718400474"
     },
     "user_tz": -180
    },
    "id": "bb82e096",
    "outputId": "b239a262-e72a-48a1-c7ee-3b15dd7e33ca",
    "scrolled": true
   },
   "outputs": [
    {
     "name": "stdout",
     "output_type": "stream",
     "text": [
      "+----+-----+----+------------+--------------------+------+--------+----+--------+----+--------------+--------+----+----------+\n",
      "|Date|Block|IUCR|Primary Type|Location Description|Arrest|Domestic|Beat|District|Ward|Community Area|FBI Code|Year|Updated On|\n",
      "+----+-----+----+------------+--------------------+------+--------+----+--------+----+--------------+--------+----+----------+\n",
      "|   0|    0|   0|           0|                   0|     0|       0|   0|       0|   0|             0|       0|   0|         0|\n",
      "+----+-----+----+------------+--------------------+------+--------+----+--------+----+--------------+--------+----+----------+\n",
      "\n"
     ]
    }
   ],
   "source": [
    "data.select([count(when(isnan(c) | col(c).isNull(), c)).alias(c) for c in data.columns]).show() "
   ]
  },
  {
   "cell_type": "markdown",
   "id": "40602114",
   "metadata": {},
   "source": [
    "### Show the shape of data after removing null values and unnecessary columns"
   ]
  },
  {
   "cell_type": "code",
   "execution_count": 10,
   "id": "42d09d5b",
   "metadata": {
    "colab": {
     "base_uri": "https://localhost:8080/"
    },
    "executionInfo": {
     "elapsed": 6737,
     "status": "ok",
     "timestamp": 1671960307382,
     "user": {
      "displayName": "Elham saeed",
      "userId": "06076261585718400474"
     },
     "user_tz": -180
    },
    "id": "42d09d5b",
    "outputId": "97a110b2-f173-495e-db35-3100d7cb2f4c"
   },
   "outputs": [
    {
     "name": "stdout",
     "output_type": "stream",
     "text": [
      "(1664187, 14)\n"
     ]
    }
   ],
   "source": [
    "print((data.count(), len(data.columns)))"
   ]
  },
  {
   "cell_type": "markdown",
   "id": "f47b8b70",
   "metadata": {
    "id": "f47b8b70"
   },
   "source": [
    "## Descriptive Statistics"
   ]
  },
  {
   "cell_type": "markdown",
   "id": "b5db129d",
   "metadata": {
    "colab": {
     "base_uri": "https://localhost:8080/"
    },
    "executionInfo": {
     "elapsed": 388975,
     "status": "ok",
     "timestamp": 1671960696760,
     "user": {
      "displayName": "Elham saeed",
      "userId": "06076261585718400474"
     },
     "user_tz": -180
    },
    "id": "03dc01e5",
    "outputId": "4675fecb-3791-4d36-ef9a-e3537461bbc7"
   },
   "source": [
    "### Convert Date and Update-on columns to timestamps and splitting the time into different columns"
   ]
  },
  {
   "cell_type": "code",
   "execution_count": 11,
   "id": "9fad65e7",
   "metadata": {
    "executionInfo": {
     "elapsed": 12,
     "status": "ok",
     "timestamp": 1671960696761,
     "user": {
      "displayName": "Elham saeed",
      "userId": "06076261585718400474"
     },
     "user_tz": -180
    },
    "id": "9fad65e7"
   },
   "outputs": [],
   "source": [
    "data = data.withColumn(\"Date\",to_timestamp(col(\"Date\"),format='MM/dd/yyyy hh:mm:ss a'))"
   ]
  },
  {
   "cell_type": "code",
   "execution_count": 12,
   "id": "688eb1ff",
   "metadata": {
    "executionInfo": {
     "elapsed": 10,
     "status": "ok",
     "timestamp": 1671960696762,
     "user": {
      "displayName": "Elham saeed",
      "userId": "06076261585718400474"
     },
     "user_tz": -180
    },
    "id": "688eb1ff"
   },
   "outputs": [],
   "source": [
    "data = data.withColumn(\"Updated On\",to_timestamp(col(\"Updated On\"),format='MM/dd/yyyy hh:mm:ss a'))"
   ]
  },
  {
   "cell_type": "code",
   "execution_count": 13,
   "id": "efac51e7",
   "metadata": {
    "executionInfo": {
     "elapsed": 9,
     "status": "ok",
     "timestamp": 1671960696762,
     "user": {
      "displayName": "Elham saeed",
      "userId": "06076261585718400474"
     },
     "user_tz": -180
    },
    "id": "efac51e7"
   },
   "outputs": [],
   "source": [
    "data = data.withColumn('Day', F.dayofmonth(F.col('date')))\n",
    "data = data.withColumn('Month', F.month(F.col('date')))\n",
    "data = data.withColumn('Hour', date_format('date', 'HH'))\n",
    "data = data.withColumn('Minutes', date_format('date', 'mm'))\n",
    "\n",
    "data = data.drop('date')"
   ]
  },
  {
   "cell_type": "code",
   "execution_count": 14,
   "id": "b5aa6914",
   "metadata": {
    "executionInfo": {
     "elapsed": 454,
     "status": "ok",
     "timestamp": 1671960697208,
     "user": {
      "displayName": "Elham saeed",
      "userId": "06076261585718400474"
     },
     "user_tz": -180
    },
    "id": "b5aa6914"
   },
   "outputs": [],
   "source": [
    "data = data.withColumn('Update_Day', F.dayofmonth(F.col('Updated On')))\n",
    "data = data.withColumn('Update_Month', F.month(F.col('Updated On')))\n",
    "data = data.withColumn('Update_Year', F.year(F.col('Updated On')))\n",
    "data = data.withColumn('Update_Hour', date_format('Updated On', 'HH'))\n",
    "data = data.withColumn('Update_Minutes', date_format('Updated On', 'mm'))\n",
    "\n",
    "data = data.drop('Updated On')"
   ]
  },
  {
   "cell_type": "markdown",
   "id": "d0c7fc8a",
   "metadata": {},
   "source": [
    "### Showing the Schema and Dataset after converting the Dates"
   ]
  },
  {
   "cell_type": "code",
   "execution_count": 15,
   "id": "edb4c83b",
   "metadata": {
    "colab": {
     "base_uri": "https://localhost:8080/"
    },
    "executionInfo": {
     "elapsed": 11,
     "status": "ok",
     "timestamp": 1671960697209,
     "user": {
      "displayName": "Elham saeed",
      "userId": "06076261585718400474"
     },
     "user_tz": -180
    },
    "id": "edb4c83b",
    "outputId": "3e4b96a6-6c36-46ba-8545-d76dc005d99f",
    "scrolled": false
   },
   "outputs": [
    {
     "name": "stdout",
     "output_type": "stream",
     "text": [
      "root\n",
      " |-- Block: string (nullable = true)\n",
      " |-- IUCR: string (nullable = true)\n",
      " |-- Primary Type: string (nullable = true)\n",
      " |-- Location Description: string (nullable = true)\n",
      " |-- Arrest: integer (nullable = true)\n",
      " |-- Domestic: integer (nullable = true)\n",
      " |-- Beat: integer (nullable = true)\n",
      " |-- District: double (nullable = true)\n",
      " |-- Ward: double (nullable = true)\n",
      " |-- Community Area: double (nullable = true)\n",
      " |-- FBI Code: string (nullable = true)\n",
      " |-- Year: integer (nullable = true)\n",
      " |-- Day: integer (nullable = true)\n",
      " |-- Month: integer (nullable = true)\n",
      " |-- Hour: string (nullable = true)\n",
      " |-- Minutes: string (nullable = true)\n",
      " |-- Update_Day: integer (nullable = true)\n",
      " |-- Update_Month: integer (nullable = true)\n",
      " |-- Update_Year: integer (nullable = true)\n",
      " |-- Update_Hour: string (nullable = true)\n",
      " |-- Update_Minutes: string (nullable = true)\n",
      "\n"
     ]
    }
   ],
   "source": [
    "data.printSchema()"
   ]
  },
  {
   "cell_type": "code",
   "execution_count": 16,
   "id": "1292c7dc",
   "metadata": {
    "colab": {
     "base_uri": "https://localhost:8080/"
    },
    "executionInfo": {
     "elapsed": 411,
     "status": "ok",
     "timestamp": 1671960697615,
     "user": {
      "displayName": "Elham saeed",
      "userId": "06076261585718400474"
     },
     "user_tz": -180
    },
    "id": "1292c7dc",
    "outputId": "21f44465-016c-4fbf-fbb6-baa534d8d9f3"
   },
   "outputs": [
    {
     "name": "stdout",
     "output_type": "stream",
     "text": [
      "+--------------------+----+--------------------+--------------------+------+--------+----+--------+----+--------------+--------+----+---+-----+----+-------+----------+------------+-----------+-----------+--------------+\n",
      "|               Block|IUCR|        Primary Type|Location Description|Arrest|Domestic|Beat|District|Ward|Community Area|FBI Code|Year|Day|Month|Hour|Minutes|Update_Day|Update_Month|Update_Year|Update_Hour|Update_Minutes|\n",
      "+--------------------+----+--------------------+--------------------+------+--------+----+--------+----+--------------+--------+----+---+-----+----+-------+----------+------------+-----------+-----------+--------------+\n",
      "| 042XX W DIVISION ST|0486|             BATTERY|           APARTMENT|     0|       1|1111|    11.0|37.0|          23.0|     08B|2016| 20|    6|  23|     30|        10|           2|       2018|         15|            50|\n",
      "| 063XX S STEWART AVE|502P|       OTHER OFFENSE|              STREET|     0|       0| 722|     7.0|20.0|          68.0|      26|2016| 21|    6|  03|     58|        10|           2|       2018|         15|            50|\n",
      "|058XX S CARPENTER ST|1753|OFFENSE INVOLVING...|           RESIDENCE|     0|       1| 712|     7.0|16.0|          68.0|      02|2016|  1|    6|  21|     00|        10|           2|       2018|         15|            50|\n",
      "|     025XX S TROY ST|0460|             BATTERY|              STREET|     0|       0|1033|    10.0|12.0|          30.0|     08B|2016| 20|    6|  20|     30|        10|           2|       2018|         15|            50|\n",
      "| 027XX S KEDVALE AVE|051A|             ASSAULT|            SIDEWALK|     1|       0|1031|    10.0|22.0|          30.0|     04A|2016| 21|    6|  01|     10|        10|           2|       2018|         15|            50|\n",
      "|  046XX W MADISON ST|0320|             ROBBERY|            SIDEWALK|     1|       0|1113|    11.0|28.0|          25.0|      03|2016| 21|    6|  01|     05|        10|           2|       2018|         15|            50|\n",
      "|    014XX W 113TH PL|1753|OFFENSE INVOLVING...|           RESIDENCE|     0|       1|2234|    22.0|34.0|          75.0|      02|2016|  1|   12|  00|     00|        10|           2|       2018|         15|            50|\n",
      "|  053XX S PULASKI RD|031A|             ROBBERY|PARKING LOT/GARAG...|     0|       0| 815|     8.0|23.0|          62.0|      03|2016| 21|    6|  00|     35|        10|           2|       2018|         15|            50|\n",
      "|    055XX S WELLS ST|1310|     CRIMINAL DAMAGE|         GAS STATION|     0|       0| 711|     7.0| 3.0|          68.0|      14|2016| 21|    6|  01|     15|        10|           2|       2018|         15|            50|\n",
      "|038XX W DIVERSEY AVE|0810|               THEFT|           RESIDENCE|     0|       1|2523|    25.0|30.0|          21.0|      06|2016| 20|    6|  00|     00|        10|           2|       2018|         15|            50|\n",
      "|     015XX E 67TH ST|0860|               THEFT|   CONVENIENCE STORE|     1|       0| 332|     3.0| 5.0|          43.0|      06|2016| 20|    6|  16|     40|        10|           2|       2018|         15|            50|\n",
      "|   105XX S YATES AVE|5111|       OTHER OFFENSE|              STREET|     1|       0| 434|     4.0|10.0|          51.0|      26|2016| 21|    6|  00|     48|        10|           2|       2018|         15|            50|\n",
      "|  087XX S BURLEY AVE|051A|             ASSAULT|           APARTMENT|     0|       1| 424|     4.0| 7.0|          46.0|     04A|2016| 21|    6|  04|     00|        10|           2|       2018|         15|            50|\n",
      "| 074XX S EMERALD AVE|1310|     CRIMINAL DAMAGE|           RESIDENCE|     0|       0| 732|     7.0|17.0|          68.0|      14|2016| 21|    6|  02|     00|        10|           2|       2018|         15|            50|\n",
      "|     016XX E 50TH PL|031A|             ROBBERY|              STREET|     0|       0| 222|     2.0| 4.0|          39.0|      03|2016| 21|    6|  03|     50|        10|           2|       2018|         15|            50|\n",
      "|   002XX N MASON AVE|0486|             BATTERY|              STREET|     0|       1|1512|    15.0|29.0|          25.0|     08B|2016| 20|    6|  03|     51|        10|           2|       2018|         15|            50|\n",
      "|112XX S EGGLESTON...|051A|             ASSAULT|               ALLEY|     1|       0|2233|    22.0|34.0|          49.0|     04A|2016| 20|    6|  21|     30|        10|           2|       2018|         15|            50|\n",
      "|     008XX E 55TH ST|0486|             BATTERY|PARKING LOT/GARAG...|     0|       1| 233|     2.0| 5.0|          41.0|     08B|2016| 20|    6|  11|     43|        10|           2|       2018|         15|            50|\n",
      "|063XX S DR MARTIN...|031A|             ROBBERY|            SIDEWALK|     0|       0| 312|     3.0|20.0|          69.0|      03|2016| 21|    6|  04|     35|        10|           2|       2018|         15|            50|\n",
      "|     027XX W 59TH ST|0610|            BURGLARY|  SMALL RETAIL STORE|     0|       0| 824|     8.0|16.0|          63.0|      05|2016| 21|    6|  01|     39|        10|           2|       2018|         15|            50|\n",
      "+--------------------+----+--------------------+--------------------+------+--------+----+--------+----+--------------+--------+----+---+-----+----+-------+----------+------------+-----------+-----------+--------------+\n",
      "only showing top 20 rows\n",
      "\n"
     ]
    }
   ],
   "source": [
    "data.show()"
   ]
  },
  {
   "cell_type": "markdown",
   "id": "8eff8c4f",
   "metadata": {
    "id": "8eff8c4f"
   },
   "source": [
    "## Data Processing"
   ]
  },
  {
   "cell_type": "markdown",
   "id": "cd111f53",
   "metadata": {},
   "source": [
    "### Using Oversampiling to Make the target balanced (Arrest Target) "
   ]
  },
  {
   "cell_type": "code",
   "execution_count": 17,
   "id": "5422571c",
   "metadata": {
    "colab": {
     "base_uri": "https://localhost:8080/"
    },
    "executionInfo": {
     "elapsed": 11656,
     "status": "ok",
     "timestamp": 1671960709264,
     "user": {
      "displayName": "Elham saeed",
      "userId": "06076261585718400474"
     },
     "user_tz": -180
    },
    "id": "5422571c",
    "outputId": "61fc8255-3288-400f-d341-96225b54e5b5"
   },
   "outputs": [
    {
     "name": "stdout",
     "output_type": "stream",
     "text": [
      "ratio: 4\n"
     ]
    }
   ],
   "source": [
    "major_df = data.filter(col(\"Arrest\") == 0)\n",
    "minor_df = data.filter(col(\"Arrest\") == 1)\n",
    "ratio = int(major_df.count()/minor_df.count())\n",
    "print(\"ratio: {}\".format(ratio))"
   ]
  },
  {
   "cell_type": "code",
   "execution_count": 18,
   "id": "46127991",
   "metadata": {
    "executionInfo": {
     "elapsed": 26,
     "status": "ok",
     "timestamp": 1671960709267,
     "user": {
      "displayName": "Elham saeed",
      "userId": "06076261585718400474"
     },
     "user_tz": -180
    },
    "id": "46127991"
   },
   "outputs": [],
   "source": [
    "a = range(ratio)\n",
    "oversampled_df = minor_df.withColumn(\"dummy\", explode(array([lit(x) for x in a]))).drop('dummy')"
   ]
  },
  {
   "cell_type": "code",
   "execution_count": 19,
   "id": "9c3bad1d",
   "metadata": {
    "colab": {
     "base_uri": "https://localhost:8080/"
    },
    "executionInfo": {
     "elapsed": 5008,
     "status": "ok",
     "timestamp": 1671960714254,
     "user": {
      "displayName": "Elham saeed",
      "userId": "06076261585718400474"
     },
     "user_tz": -180
    },
    "id": "9c3bad1d",
    "outputId": "19343e57-c20a-47ec-b197-cbd073a78c62"
   },
   "outputs": [
    {
     "data": {
      "text/plain": [
       "1186488"
      ]
     },
     "execution_count": 19,
     "metadata": {},
     "output_type": "execute_result"
    }
   ],
   "source": [
    "oversampled_df.count()"
   ]
  },
  {
   "cell_type": "code",
   "execution_count": 20,
   "id": "f25b4c1a",
   "metadata": {
    "colab": {
     "base_uri": "https://localhost:8080/"
    },
    "executionInfo": {
     "elapsed": 879,
     "status": "ok",
     "timestamp": 1671960715054,
     "user": {
      "displayName": "Elham saeed",
      "userId": "06076261585718400474"
     },
     "user_tz": -180
    },
    "id": "f25b4c1a",
    "outputId": "5d0e5f07-f09e-4c62-9956-edf7c870a250"
   },
   "outputs": [
    {
     "name": "stdout",
     "output_type": "stream",
     "text": [
      "+--------------------+----+--------------------+--------------------+------+--------+----+--------+----+--------------+--------+----+---+-----+----+-------+----------+------------+-----------+-----------+--------------+\n",
      "|               Block|IUCR|        Primary Type|Location Description|Arrest|Domestic|Beat|District|Ward|Community Area|FBI Code|Year|Day|Month|Hour|Minutes|Update_Day|Update_Month|Update_Year|Update_Hour|Update_Minutes|\n",
      "+--------------------+----+--------------------+--------------------+------+--------+----+--------+----+--------------+--------+----+---+-----+----+-------+----------+------------+-----------+-----------+--------------+\n",
      "| 042XX W DIVISION ST|0486|             BATTERY|           APARTMENT|     0|       1|1111|    11.0|37.0|          23.0|     08B|2016| 20|    6|  23|     30|        10|           2|       2018|         15|            50|\n",
      "| 063XX S STEWART AVE|502P|       OTHER OFFENSE|              STREET|     0|       0| 722|     7.0|20.0|          68.0|      26|2016| 21|    6|  03|     58|        10|           2|       2018|         15|            50|\n",
      "|058XX S CARPENTER ST|1753|OFFENSE INVOLVING...|           RESIDENCE|     0|       1| 712|     7.0|16.0|          68.0|      02|2016|  1|    6|  21|     00|        10|           2|       2018|         15|            50|\n",
      "|     025XX S TROY ST|0460|             BATTERY|              STREET|     0|       0|1033|    10.0|12.0|          30.0|     08B|2016| 20|    6|  20|     30|        10|           2|       2018|         15|            50|\n",
      "|    014XX W 113TH PL|1753|OFFENSE INVOLVING...|           RESIDENCE|     0|       1|2234|    22.0|34.0|          75.0|      02|2016|  1|   12|  00|     00|        10|           2|       2018|         15|            50|\n",
      "|  053XX S PULASKI RD|031A|             ROBBERY|PARKING LOT/GARAG...|     0|       0| 815|     8.0|23.0|          62.0|      03|2016| 21|    6|  00|     35|        10|           2|       2018|         15|            50|\n",
      "|    055XX S WELLS ST|1310|     CRIMINAL DAMAGE|         GAS STATION|     0|       0| 711|     7.0| 3.0|          68.0|      14|2016| 21|    6|  01|     15|        10|           2|       2018|         15|            50|\n",
      "|038XX W DIVERSEY AVE|0810|               THEFT|           RESIDENCE|     0|       1|2523|    25.0|30.0|          21.0|      06|2016| 20|    6|  00|     00|        10|           2|       2018|         15|            50|\n",
      "|  087XX S BURLEY AVE|051A|             ASSAULT|           APARTMENT|     0|       1| 424|     4.0| 7.0|          46.0|     04A|2016| 21|    6|  04|     00|        10|           2|       2018|         15|            50|\n",
      "| 074XX S EMERALD AVE|1310|     CRIMINAL DAMAGE|           RESIDENCE|     0|       0| 732|     7.0|17.0|          68.0|      14|2016| 21|    6|  02|     00|        10|           2|       2018|         15|            50|\n",
      "|     016XX E 50TH PL|031A|             ROBBERY|              STREET|     0|       0| 222|     2.0| 4.0|          39.0|      03|2016| 21|    6|  03|     50|        10|           2|       2018|         15|            50|\n",
      "|   002XX N MASON AVE|0486|             BATTERY|              STREET|     0|       1|1512|    15.0|29.0|          25.0|     08B|2016| 20|    6|  03|     51|        10|           2|       2018|         15|            50|\n",
      "|     008XX E 55TH ST|0486|             BATTERY|PARKING LOT/GARAG...|     0|       1| 233|     2.0| 5.0|          41.0|     08B|2016| 20|    6|  11|     43|        10|           2|       2018|         15|            50|\n",
      "|063XX S DR MARTIN...|031A|             ROBBERY|            SIDEWALK|     0|       0| 312|     3.0|20.0|          69.0|      03|2016| 21|    6|  04|     35|        10|           2|       2018|         15|            50|\n",
      "|     027XX W 59TH ST|0610|            BURGLARY|  SMALL RETAIL STORE|     0|       0| 824|     8.0|16.0|          63.0|      05|2016| 21|    6|  01|     39|        10|           2|       2018|         15|            50|\n",
      "| 060XX S ASHLAND AVE|0486|             BATTERY|VEHICLE NON-COMME...|     0|       1| 714|     7.0|15.0|          67.0|     08B|2016| 21|    6|  03|     57|        10|           2|       2018|         15|            50|\n",
      "|045XX S WOODLAWN AVE|0930| MOTOR VEHICLE THEFT|            SIDEWALK|     0|       0| 222|     2.0| 4.0|          39.0|      07|2016| 20|    6|  19|     00|        10|           2|       2018|         15|            50|\n",
      "|013XX S MICHIGAN AVE|1310|     CRIMINAL DAMAGE|           RESIDENCE|     0|       1| 131|     1.0| 2.0|          33.0|      14|2016| 20|    6|  12|     00|        10|           2|       2018|         15|            50|\n",
      "|  069XX W BERWYN AVE|0850|               THEFT|              STREET|     0|       0|1613|    16.0|41.0|          10.0|      06|2016| 21|    6|  02|     40|        10|           2|       2018|         15|            50|\n",
      "| 016XX N LA SALLE DR|0320|             ROBBERY|       PARK PROPERTY|     0|       0|1814|    18.0|43.0|           7.0|      03|2016| 20|    6|  23|     30|        10|           2|       2018|         15|            50|\n",
      "+--------------------+----+--------------------+--------------------+------+--------+----+--------+----+--------------+--------+----+---+-----+----+-------+----------+------------+-----------+-----------+--------------+\n",
      "only showing top 20 rows\n",
      "\n"
     ]
    }
   ],
   "source": [
    "combined_df = major_df.unionAll(oversampled_df)\n",
    "combined_df.show()"
   ]
  },
  {
   "cell_type": "markdown",
   "id": "66b67b65",
   "metadata": {
    "id": "66b67b65"
   },
   "source": [
    "### Confirm the oversampled data"
   ]
  },
  {
   "cell_type": "code",
   "execution_count": 21,
   "id": "eba5977a",
   "metadata": {
    "colab": {
     "base_uri": "https://localhost:8080/"
    },
    "executionInfo": {
     "elapsed": 10034,
     "status": "ok",
     "timestamp": 1671960725078,
     "user": {
      "displayName": "Elham saeed",
      "userId": "06076261585718400474"
     },
     "user_tz": -180
    },
    "id": "eba5977a",
    "outputId": "4fbe6093-7b02-4169-8628-aca364ba325f"
   },
   "outputs": [
    {
     "name": "stdout",
     "output_type": "stream",
     "text": [
      "+------+-------+\n",
      "|Arrest|  count|\n",
      "+------+-------+\n",
      "|     0|1367565|\n",
      "|     1|1186488|\n",
      "+------+-------+\n",
      "\n"
     ]
    }
   ],
   "source": [
    "combined_df.groupby('Arrest').count().show()"
   ]
  },
  {
   "cell_type": "markdown",
   "id": "d65db27b",
   "metadata": {
    "id": "d65db27b"
   },
   "source": [
    "### Do to the fact that we fact we have 35,253 Different Blocks in Chicago, we needed to make them lower for the ML Model to handel them, so we made them 10,000. And make the rest unknown. "
   ]
  },
  {
   "cell_type": "code",
   "execution_count": 22,
   "id": "COQHPwzlls4g",
   "metadata": {
    "colab": {
     "base_uri": "https://localhost:8080/"
    },
    "executionInfo": {
     "elapsed": 7735,
     "status": "ok",
     "timestamp": 1671960748214,
     "user": {
      "displayName": "Elham saeed",
      "userId": "06076261585718400474"
     },
     "user_tz": -180
    },
    "id": "COQHPwzlls4g",
    "outputId": "e093dd25-c022-4a33-fe28-9a7f37a6d3ee",
    "scrolled": true
   },
   "outputs": [
    {
     "data": {
      "text/plain": [
       "35691"
      ]
     },
     "execution_count": 22,
     "metadata": {},
     "output_type": "execute_result"
    }
   ],
   "source": [
    "data.select('Block').distinct().count()"
   ]
  },
  {
   "cell_type": "code",
   "execution_count": 23,
   "id": "zwuyeQovkF0m",
   "metadata": {
    "executionInfo": {
     "elapsed": 25213,
     "status": "ok",
     "timestamp": 1671960825276,
     "user": {
      "displayName": "Elham saeed",
      "userId": "06076261585718400474"
     },
     "user_tz": -180
    },
    "id": "zwuyeQovkF0m"
   },
   "outputs": [],
   "source": [
    "n = 10001\n",
    "most_freq = combined_df.groupBy('Block').count().orderBy('count', ascending=False).take(n - 1)\n",
    "most_freq = spark.createDataFrame(most_freq).toPandas()\n",
    "most_freq = most_freq['Block'].tolist()\n",
    "combined_df = combined_df.withColumn('Block', when(col('Block').isin(most_freq), col('Block')))"
   ]
  },
  {
   "cell_type": "code",
   "execution_count": 24,
   "id": "DlpnSFv6kRy_",
   "metadata": {
    "executionInfo": {
     "elapsed": 118,
     "status": "ok",
     "timestamp": 1671960825278,
     "user": {
      "displayName": "Elham saeed",
      "userId": "06076261585718400474"
     },
     "user_tz": -180
    },
    "id": "DlpnSFv6kRy_"
   },
   "outputs": [],
   "source": [
    "combined_df = combined_df.fillna('unknown', subset='Block')"
   ]
  },
  {
   "cell_type": "markdown",
   "id": "b6f11fb1",
   "metadata": {},
   "source": [
    "### Showing the final Schema"
   ]
  },
  {
   "cell_type": "code",
   "execution_count": 25,
   "id": "8e7ac5c7",
   "metadata": {
    "colab": {
     "base_uri": "https://localhost:8080/"
    },
    "executionInfo": {
     "elapsed": 113,
     "status": "ok",
     "timestamp": 1671960825279,
     "user": {
      "displayName": "Elham saeed",
      "userId": "06076261585718400474"
     },
     "user_tz": -180
    },
    "id": "8e7ac5c7",
    "outputId": "a2e4638c-d33e-4963-8219-e3b28e72f2f8",
    "scrolled": false
   },
   "outputs": [
    {
     "name": "stdout",
     "output_type": "stream",
     "text": [
      "root\n",
      " |-- Block: string (nullable = false)\n",
      " |-- IUCR: string (nullable = true)\n",
      " |-- Primary Type: string (nullable = true)\n",
      " |-- Location Description: string (nullable = true)\n",
      " |-- Arrest: integer (nullable = true)\n",
      " |-- Domestic: integer (nullable = true)\n",
      " |-- Beat: integer (nullable = true)\n",
      " |-- District: double (nullable = true)\n",
      " |-- Ward: double (nullable = true)\n",
      " |-- Community Area: double (nullable = true)\n",
      " |-- FBI Code: string (nullable = true)\n",
      " |-- Year: integer (nullable = true)\n",
      " |-- Day: integer (nullable = true)\n",
      " |-- Month: integer (nullable = true)\n",
      " |-- Hour: string (nullable = true)\n",
      " |-- Minutes: string (nullable = true)\n",
      " |-- Update_Day: integer (nullable = true)\n",
      " |-- Update_Month: integer (nullable = true)\n",
      " |-- Update_Year: integer (nullable = true)\n",
      " |-- Update_Hour: string (nullable = true)\n",
      " |-- Update_Minutes: string (nullable = true)\n",
      "\n"
     ]
    }
   ],
   "source": [
    "combined_df.printSchema()"
   ]
  },
  {
   "cell_type": "markdown",
   "id": "cd2f67c8",
   "metadata": {},
   "source": [
    "### Using String Indexer to Convert all Categorical Data to Numerical."
   ]
  },
  {
   "cell_type": "code",
   "execution_count": 26,
   "id": "2ccc0ec3",
   "metadata": {
    "executionInfo": {
     "elapsed": 112083,
     "status": "ok",
     "timestamp": 1671960937262,
     "user": {
      "displayName": "Elham saeed",
      "userId": "06076261585718400474"
     },
     "user_tz": -180
    },
    "id": "2ccc0ec3",
    "scrolled": false
   },
   "outputs": [],
   "source": [
    "cat_cols = ['Block', 'IUCR', 'Primary Type','Location Description','FBI Code','Hour','Minutes','Update_Hour','Update_Minutes']\n",
    "\n",
    "for c in cat_cols: \n",
    "    indexer = StringIndexer(inputCol=c, outputCol=c+'_idx')\n",
    "    combined_df = indexer.fit(combined_df).transform(combined_df) \n",
    "    \n",
    "final_df = combined_df.drop(*cat_cols)"
   ]
  },
  {
   "cell_type": "markdown",
   "id": "f62bfd24",
   "metadata": {},
   "source": [
    "### Showing the final Dataset"
   ]
  },
  {
   "cell_type": "code",
   "execution_count": 27,
   "id": "ec34f01a",
   "metadata": {
    "colab": {
     "base_uri": "https://localhost:8080/",
     "height": 1000
    },
    "executionInfo": {
     "elapsed": 2714,
     "status": "error",
     "timestamp": 1671960939897,
     "user": {
      "displayName": "Elham saeed",
      "userId": "06076261585718400474"
     },
     "user_tz": -180
    },
    "id": "ec34f01a",
    "outputId": "39c593de-809d-4cd1-a51b-450f18dd2d33"
   },
   "outputs": [
    {
     "name": "stdout",
     "output_type": "stream",
     "text": [
      "+------+--------+----+--------+----+--------------+----+---+-----+----------+------------+-----------+---------+--------+----------------+------------------------+------------+--------+-----------+---------------+------------------+\n",
      "|Arrest|Domestic|Beat|District|Ward|Community Area|Year|Day|Month|Update_Day|Update_Month|Update_Year|Block_idx|IUCR_idx|Primary Type_idx|Location Description_idx|FBI Code_idx|Hour_idx|Minutes_idx|Update_Hour_idx|Update_Minutes_idx|\n",
      "+------+--------+----+--------+----+--------------+----+---+-----+----------+------------+-----------+---------+--------+----------------+------------------------+------------+--------+-----------+---------------+------------------+\n",
      "|     0|       1|1111|    11.0|37.0|          23.0|2016| 20|    6|        10|           2|       2018|   2648.0|     0.0|             0.0|                     2.0|         1.0|    14.0|        1.0|            0.0|               0.0|\n",
      "|     0|       0| 722|     7.0|20.0|          68.0|2016| 21|    6|        10|           2|       2018|   3665.0|    39.0|             5.0|                     0.0|         3.0|    20.0|       15.0|            0.0|               0.0|\n",
      "|     0|       1| 712|     7.0|16.0|          68.0|2016|  1|    6|        10|           2|       2018|   6820.0|   165.0|            14.0|                     1.0|        14.0|     8.0|        0.0|            0.0|               0.0|\n",
      "|     0|       0|1033|    10.0|12.0|          30.0|2016| 20|    6|        10|           2|       2018|   3848.0|     2.0|             0.0|                     0.0|         1.0|     3.0|        1.0|            0.0|               0.0|\n",
      "|     0|       1|2234|    22.0|34.0|          75.0|2016|  1|   12|        10|           2|       2018|      0.0|   165.0|            14.0|                     1.0|        14.0|     6.0|        0.0|            0.0|               0.0|\n",
      "|     0|       0| 815|     8.0|23.0|          62.0|2016| 21|    6|        10|           2|       2018|    300.0|    17.0|            11.0|                    10.0|        11.0|     6.0|        9.0|            0.0|               0.0|\n",
      "|     0|       0| 711|     7.0| 3.0|          68.0|2016| 21|    6|        10|           2|       2018|   3412.0|     7.0|             3.0|                    12.0|         4.0|    17.0|        3.0|            0.0|               0.0|\n",
      "|     0|       1|2523|    25.0|30.0|          21.0|2016| 20|    6|        10|           2|       2018|   6287.0|     6.0|             1.0|                     1.0|         0.0|     6.0|        0.0|            0.0|               0.0|\n",
      "|     0|       1| 424|     4.0| 7.0|          46.0|2016| 21|    6|        10|           2|       2018|    149.0|    15.0|             4.0|                     2.0|        12.0|    21.0|        0.0|            0.0|               0.0|\n",
      "|     0|       0| 732|     7.0|17.0|          68.0|2016| 21|    6|        10|           2|       2018|   3150.0|     7.0|             3.0|                     1.0|         4.0|    18.0|        0.0|            0.0|               0.0|\n",
      "|     0|       0| 222|     2.0| 4.0|          39.0|2016| 21|    6|        10|           2|       2018|   5937.0|    17.0|            11.0|                     0.0|        11.0|    20.0|        5.0|            0.0|               0.0|\n",
      "|     0|       1|1512|    15.0|29.0|          25.0|2016| 20|    6|        10|           2|       2018|   5312.0|     0.0|             0.0|                     0.0|         1.0|    20.0|       57.0|            0.0|               0.0|\n",
      "|     0|       1| 233|     2.0| 5.0|          41.0|2016| 20|    6|        10|           2|       2018|      0.0|     0.0|             0.0|                    10.0|         1.0|    11.0|       28.0|            0.0|               0.0|\n",
      "|     0|       0| 312|     3.0|20.0|          69.0|2016| 21|    6|        10|           2|       2018|     38.0|    17.0|            11.0|                     3.0|        11.0|    21.0|        9.0|            0.0|               0.0|\n",
      "|     0|       0| 824|     8.0|16.0|          63.0|2016| 21|    6|        10|           2|       2018|   3811.0|    13.0|            10.0|                     4.0|        10.0|    17.0|       48.0|            0.0|               0.0|\n",
      "|     0|       1| 714|     7.0|15.0|          67.0|2016| 21|    6|        10|           2|       2018|   3009.0|     0.0|             0.0|                     9.0|         1.0|    20.0|       39.0|            0.0|               0.0|\n",
      "|     0|       0| 222|     2.0| 4.0|          39.0|2016| 20|    6|        10|           2|       2018|   8632.0|    64.0|             9.0|                     3.0|         8.0|     0.0|        0.0|            0.0|               0.0|\n",
      "|     0|       1| 131|     1.0| 2.0|          33.0|2016| 20|    6|        10|           2|       2018|   2290.0|     7.0|             3.0|                     1.0|         4.0|     1.0|        0.0|            0.0|               0.0|\n",
      "|     0|       0|1613|    16.0|41.0|          10.0|2016| 21|    6|        10|           2|       2018|      0.0|    89.0|             1.0|                     0.0|         0.0|    18.0|        6.0|            0.0|               0.0|\n",
      "|     0|       0|1814|    18.0|43.0|           7.0|2016| 20|    6|        10|           2|       2018|   3399.0|    23.0|            11.0|                    19.0|        11.0|    14.0|        1.0|            0.0|               0.0|\n",
      "+------+--------+----+--------+----+--------------+----+---+-----+----------+------------+-----------+---------+--------+----------------+------------------------+------------+--------+-----------+---------------+------------------+\n",
      "only showing top 20 rows\n",
      "\n"
     ]
    }
   ],
   "source": [
    "final_df.show()"
   ]
  },
  {
   "cell_type": "markdown",
   "id": "37ad0dd8",
   "metadata": {},
   "source": [
    "### Spliting the Target from the columns and combining the rest of columns to one feature."
   ]
  },
  {
   "cell_type": "code",
   "execution_count": 28,
   "id": "39199c16",
   "metadata": {
    "executionInfo": {
     "elapsed": 63,
     "status": "aborted",
     "timestamp": 1671960939902,
     "user": {
      "displayName": "Elham saeed",
      "userId": "06076261585718400474"
     },
     "user_tz": -180
    },
    "id": "39199c16"
   },
   "outputs": [],
   "source": [
    "cols = final_df.columns\n",
    "cols.remove('Arrest')\n",
    "assembler = VectorAssembler(inputCols=cols, outputCol='features')\n",
    "final_df = assembler.transform(final_df)"
   ]
  },
  {
   "cell_type": "markdown",
   "id": "7ae47397",
   "metadata": {},
   "source": [
    "### Final Dataframe"
   ]
  },
  {
   "cell_type": "code",
   "execution_count": 29,
   "id": "c3b31d58",
   "metadata": {
    "executionInfo": {
     "elapsed": 65,
     "status": "aborted",
     "timestamp": 1671960939905,
     "user": {
      "displayName": "Elham saeed",
      "userId": "06076261585718400474"
     },
     "user_tz": -180
    },
    "id": "c3b31d58"
   },
   "outputs": [
    {
     "data": {
      "text/plain": [
       "DataFrame[Arrest: int, Domestic: int, Beat: int, District: double, Ward: double, Community Area: double, Year: int, Day: int, Month: int, Update_Day: int, Update_Month: int, Update_Year: int, Block_idx: double, IUCR_idx: double, Primary Type_idx: double, Location Description_idx: double, FBI Code_idx: double, Hour_idx: double, Minutes_idx: double, Update_Hour_idx: double, Update_Minutes_idx: double, features: vector]"
      ]
     },
     "execution_count": 29,
     "metadata": {},
     "output_type": "execute_result"
    }
   ],
   "source": [
    "final_df"
   ]
  },
  {
   "cell_type": "markdown",
   "id": "cd2be40c",
   "metadata": {
    "id": "cd2be40c"
   },
   "source": [
    "### Split the data into Training (80%) and Testing (20%)"
   ]
  },
  {
   "cell_type": "code",
   "execution_count": 30,
   "id": "b295cc4c",
   "metadata": {
    "executionInfo": {
     "elapsed": 67,
     "status": "aborted",
     "timestamp": 1671960939908,
     "user": {
      "displayName": "Elham saeed",
      "userId": "06076261585718400474"
     },
     "user_tz": -180
    },
    "id": "b295cc4c"
   },
   "outputs": [],
   "source": [
    "df_data = final_df.select(col('features'), col('Arrest').alias('label'))\n",
    "df_train, df_test = df_data.randomSplit([0.8, 0.2])"
   ]
  },
  {
   "cell_type": "markdown",
   "id": "fb0a5f72",
   "metadata": {
    "id": "fb0a5f72"
   },
   "source": [
    "## Model Building"
   ]
  },
  {
   "cell_type": "code",
   "execution_count": 31,
   "id": "d981c47f",
   "metadata": {
    "executionInfo": {
     "elapsed": 70,
     "status": "aborted",
     "timestamp": 1671960939913,
     "user": {
      "displayName": "Elham saeed",
      "userId": "06076261585718400474"
     },
     "user_tz": -180
    },
    "id": "d981c47f"
   },
   "outputs": [],
   "source": [
    "# Import some classifiers and multiclass evaluator\n",
    "from pyspark.ml.classification import DecisionTreeClassifier, RandomForestClassifier, LogisticRegression, GBTClassifier\n",
    "from pyspark.ml.evaluation import MulticlassClassificationEvaluator"
   ]
  },
  {
   "cell_type": "code",
   "execution_count": 32,
   "id": "bd92aca1",
   "metadata": {
    "executionInfo": {
     "elapsed": 71,
     "status": "aborted",
     "timestamp": 1671960939915,
     "user": {
      "displayName": "Elham saeed",
      "userId": "06076261585718400474"
     },
     "user_tz": -180
    },
    "id": "bd92aca1"
   },
   "outputs": [],
   "source": [
    "# Decision Tree\n",
    "dt = DecisionTreeClassifier(labelCol=\"label\", featuresCol=\"features\", maxBins=10001)\n",
    "model_dt = dt.fit(df_train)"
   ]
  },
  {
   "cell_type": "code",
   "execution_count": 33,
   "id": "b7c4a781",
   "metadata": {
    "executionInfo": {
     "elapsed": 73,
     "status": "aborted",
     "timestamp": 1671960939917,
     "user": {
      "displayName": "Elham saeed",
      "userId": "06076261585718400474"
     },
     "user_tz": -180
    },
    "id": "b7c4a781"
   },
   "outputs": [],
   "source": [
    "# Random Forest\n",
    "rf = RandomForestClassifier(labelCol=\"label\", featuresCol=\"features\", numTrees=10, maxBins=10001)\n",
    "model_rf = rf.fit(df_train)"
   ]
  },
  {
   "cell_type": "code",
   "execution_count": 34,
   "id": "e0f7173e",
   "metadata": {
    "executionInfo": {
     "elapsed": 74,
     "status": "aborted",
     "timestamp": 1671960939919,
     "user": {
      "displayName": "Elham saeed",
      "userId": "06076261585718400474"
     },
     "user_tz": -180
    },
    "id": "e0f7173e"
   },
   "outputs": [],
   "source": [
    "# Logistic Regression\n",
    "lr = LogisticRegression(maxIter=10, regParam=0.3, elasticNetParam=0.8, labelCol=\"label\", featuresCol=\"features\")\n",
    "model_lr = lr.fit(df_train)"
   ]
  },
  {
   "cell_type": "code",
   "execution_count": 35,
   "id": "8a0afc01",
   "metadata": {
    "executionInfo": {
     "elapsed": 75,
     "status": "aborted",
     "timestamp": 1671960939921,
     "user": {
      "displayName": "Elham saeed",
      "userId": "06076261585718400474"
     },
     "user_tz": -180
    },
    "id": "8a0afc01"
   },
   "outputs": [],
   "source": [
    "# Gradient Boost\n",
    "gbt = GBTClassifier(labelCol=\"label\", featuresCol=\"features\", maxIter=10, maxBins=10001)\n",
    "model_gbt = gbt.fit(df_train)"
   ]
  },
  {
   "cell_type": "code",
   "execution_count": 36,
   "id": "6b2cf9d1",
   "metadata": {
    "executionInfo": {
     "elapsed": 77,
     "status": "aborted",
     "timestamp": 1671960939923,
     "user": {
      "displayName": "Elham saeed",
      "userId": "06076261585718400474"
     },
     "user_tz": -180
    },
    "id": "6b2cf9d1"
   },
   "outputs": [],
   "source": [
    "# Predicting the results\n",
    "pred_dt = model_dt.transform(df_test)\n",
    "pred_rf = model_rf.transform(df_test)\n",
    "pred_lr = model_lr.transform(df_test)\n",
    "pred_gbt = model_gbt.transform(df_test)"
   ]
  },
  {
   "cell_type": "markdown",
   "id": "2045117e",
   "metadata": {
    "id": "2045117e"
   },
   "source": [
    "## Evaluation"
   ]
  },
  {
   "cell_type": "code",
   "execution_count": 37,
   "id": "5c2a8c85",
   "metadata": {
    "executionInfo": {
     "elapsed": 78,
     "status": "aborted",
     "timestamp": 1671960939925,
     "user": {
      "displayName": "Elham saeed",
      "userId": "06076261585718400474"
     },
     "user_tz": -180
    },
    "id": "5c2a8c85"
   },
   "outputs": [],
   "source": [
    "# Accuracy Metric\n",
    "evaluator_A = MulticlassClassificationEvaluator(labelCol=\"label\", predictionCol=\"prediction\", metricName=\"accuracy\")\n",
    "\n",
    "# F1 Metric\n",
    "evaluator_F = MulticlassClassificationEvaluator(labelCol=\"label\", predictionCol=\"prediction\", metricName=\"f1\")\n",
    "\n",
    "# Weighted Precision\n",
    "evaluator_P = MulticlassClassificationEvaluator(labelCol=\"label\", predictionCol=\"prediction\", metricName=\"weightedPrecision\")\n",
    "\n",
    "# Weighted Recall\n",
    "evaluator_R = MulticlassClassificationEvaluator(labelCol=\"label\", predictionCol=\"prediction\", metricName=\"weightedRecall\")\n",
    "\n",
    "# Our models\n",
    "models = [pred_dt, pred_rf, pred_lr, pred_gbt]\n",
    "\n",
    "# Empty lists \n",
    "accuracy = []\n",
    "F1 = []\n",
    "precision = []\n",
    "recall = []\n",
    "\n",
    "# Fill lists with metric.\n",
    "for model in models:\n",
    "    accuracy.append(evaluator_A.evaluate(model))\n",
    "    F1.append(evaluator_F.evaluate(model))\n",
    "    precision.append(evaluator_P.evaluate(model))\n",
    "    recall.append(evaluator_R.evaluate(model))"
   ]
  },
  {
   "cell_type": "code",
   "execution_count": 38,
   "id": "f55e042b",
   "metadata": {
    "executionInfo": {
     "elapsed": 70,
     "status": "aborted",
     "timestamp": 1671960939927,
     "user": {
      "displayName": "Elham saeed",
      "userId": "06076261585718400474"
     },
     "user_tz": -180
    },
    "id": "f55e042b"
   },
   "outputs": [],
   "source": [
    "df_ev = pd.DataFrame(list(zip(accuracy, F1, precision, recall)), \n",
    "                     columns = ['Accuracy', 'F1-Score', 'Weighted Precision', 'Weighted Recall'],\n",
    "                     index = ['Decision Tree', 'Random Forest', 'Logistic Regression', 'Gradient Boost'])"
   ]
  },
  {
   "cell_type": "markdown",
   "id": "901b0e81",
   "metadata": {},
   "source": [
    "### Showing the Result Dataframe"
   ]
  },
  {
   "cell_type": "code",
   "execution_count": 39,
   "id": "05255017",
   "metadata": {
    "executionInfo": {
     "elapsed": 70,
     "status": "aborted",
     "timestamp": 1671960939928,
     "user": {
      "displayName": "Elham saeed",
      "userId": "06076261585718400474"
     },
     "user_tz": -180
    },
    "id": "05255017",
    "scrolled": true
   },
   "outputs": [
    {
     "data": {
      "text/html": [
       "<div>\n",
       "<style scoped>\n",
       "    .dataframe tbody tr th:only-of-type {\n",
       "        vertical-align: middle;\n",
       "    }\n",
       "\n",
       "    .dataframe tbody tr th {\n",
       "        vertical-align: top;\n",
       "    }\n",
       "\n",
       "    .dataframe thead th {\n",
       "        text-align: right;\n",
       "    }\n",
       "</style>\n",
       "<table border=\"1\" class=\"dataframe\">\n",
       "  <thead>\n",
       "    <tr style=\"text-align: right;\">\n",
       "      <th></th>\n",
       "      <th>Accuracy</th>\n",
       "      <th>F1-Score</th>\n",
       "      <th>Weighted Precision</th>\n",
       "      <th>Weighted Recall</th>\n",
       "    </tr>\n",
       "  </thead>\n",
       "  <tbody>\n",
       "    <tr>\n",
       "      <th>Decision Tree</th>\n",
       "      <td>0.731800</td>\n",
       "      <td>0.731713</td>\n",
       "      <td>0.731654</td>\n",
       "      <td>0.731800</td>\n",
       "    </tr>\n",
       "    <tr>\n",
       "      <th>Random Forest</th>\n",
       "      <td>0.767599</td>\n",
       "      <td>0.765889</td>\n",
       "      <td>0.769301</td>\n",
       "      <td>0.767599</td>\n",
       "    </tr>\n",
       "    <tr>\n",
       "      <th>Logistic Regression</th>\n",
       "      <td>0.534790</td>\n",
       "      <td>0.372690</td>\n",
       "      <td>0.286001</td>\n",
       "      <td>0.534790</td>\n",
       "    </tr>\n",
       "    <tr>\n",
       "      <th>Gradient Boost</th>\n",
       "      <td>0.832051</td>\n",
       "      <td>0.831378</td>\n",
       "      <td>0.833031</td>\n",
       "      <td>0.832051</td>\n",
       "    </tr>\n",
       "  </tbody>\n",
       "</table>\n",
       "</div>"
      ],
      "text/plain": [
       "                     Accuracy  F1-Score  Weighted Precision  Weighted Recall\n",
       "Decision Tree        0.731800  0.731713            0.731654         0.731800\n",
       "Random Forest        0.767599  0.765889            0.769301         0.767599\n",
       "Logistic Regression  0.534790  0.372690            0.286001         0.534790\n",
       "Gradient Boost       0.832051  0.831378            0.833031         0.832051"
      ]
     },
     "execution_count": 39,
     "metadata": {},
     "output_type": "execute_result"
    }
   ],
   "source": [
    "df_ev"
   ]
  },
  {
   "cell_type": "markdown",
   "id": "1a0ae2b2",
   "metadata": {
    "id": "1a0ae2b2"
   },
   "source": [
    "## Using Gridsearch and CrossValidator"
   ]
  },
  {
   "cell_type": "code",
   "execution_count": 40,
   "id": "9af74add",
   "metadata": {
    "executionInfo": {
     "elapsed": 70,
     "status": "aborted",
     "timestamp": 1671960939930,
     "user": {
      "displayName": "Elham saeed",
      "userId": "06076261585718400474"
     },
     "user_tz": -180
    },
    "id": "9af74add"
   },
   "outputs": [],
   "source": [
    "grid = ParamGridBuilder().addGrid(gbt.maxIter, [5, 10, 15, 20]).build()\n",
    "cv = CrossValidator(estimator=gbt, estimatorParamMaps=grid, evaluator=evaluator_A, parallelism=2)\n",
    "cvModel = cv.fit(df_train)"
   ]
  },
  {
   "cell_type": "code",
   "execution_count": 41,
   "id": "6d547009",
   "metadata": {
    "executionInfo": {
     "elapsed": 70,
     "status": "aborted",
     "timestamp": 1671960939932,
     "user": {
      "displayName": "Elham saeed",
      "userId": "06076261585718400474"
     },
     "user_tz": -180
    },
    "id": "6d547009"
   },
   "outputs": [
    {
     "data": {
      "text/plain": [
       "[0.8210348291918611, 0.8264598515171896, 0.830008052617219, 0.8326100489626413]"
      ]
     },
     "execution_count": 41,
     "metadata": {},
     "output_type": "execute_result"
    }
   ],
   "source": [
    "cvModel.avgMetrics "
   ]
  },
  {
   "cell_type": "code",
   "execution_count": 42,
   "id": "f55dfa84",
   "metadata": {
    "executionInfo": {
     "elapsed": 69,
     "status": "aborted",
     "timestamp": 1671960939933,
     "user": {
      "displayName": "Elham saeed",
      "userId": "06076261585718400474"
     },
     "user_tz": -180
    },
    "id": "f55dfa84"
   },
   "outputs": [
    {
     "data": {
      "text/plain": [
       "0.8377324318033794"
      ]
     },
     "execution_count": 42,
     "metadata": {},
     "output_type": "execute_result"
    }
   ],
   "source": [
    "evaluator_A.evaluate(cvModel.transform(df_test))"
   ]
  }
 ],
 "metadata": {
  "colab": {
   "provenance": []
  },
  "kernelspec": {
   "display_name": "Python 3 (ipykernel)",
   "language": "python",
   "name": "python3"
  },
  "language_info": {
   "codemirror_mode": {
    "name": "ipython",
    "version": 3
   },
   "file_extension": ".py",
   "mimetype": "text/x-python",
   "name": "python",
   "nbconvert_exporter": "python",
   "pygments_lexer": "ipython3",
   "version": "3.9.12"
  }
 },
 "nbformat": 4,
 "nbformat_minor": 5
}
